{
 "cells": [
  {
   "cell_type": "code",
   "execution_count": 13,
   "id": "b36febf6",
   "metadata": {},
   "outputs": [
    {
     "name": "stdout",
     "output_type": "stream",
     "text": [
      "<_io.TextIOWrapper name='C:/Users/Admin/Desktop/DS Notes/Python/Libraries/conv.txt' mode='r' encoding='cp1252'>\n"
     ]
    }
   ],
   "source": [
    "text=open('C:/Users/Admin/Desktop/DS Notes/Python/Libraries/conv.txt','r')\n",
    "\n",
    "print(text)\n"
   ]
  },
  {
   "cell_type": "code",
   "execution_count": 14,
   "id": "601d7cc2",
   "metadata": {},
   "outputs": [
    {
     "name": "stdout",
     "output_type": "stream",
     "text": [
      "[['WILL:', 'Iâ€™ve', 'never', 'seen', 'wildlings', 'do', 'a', 'thing', 'like', 'this.', 'Iâ€™ve', 'never', 'seen', 'a', 'thing', 'like', 'this,', 'not', 'ever', 'in', 'my', 'life.'], ['WILL:', 'Close', 'as', 'any', 'man', 'would.'], ['WILL:', 'Whatever', 'did', 'it', 'to', 'them', 'could', 'do', 'it', 'to', 'us.', 'They', 'even', 'killed', 'the', 'children.'], ['WILL:', 'They', 'were', 'here.']]\n"
     ]
    }
   ],
   "source": [
    "WILL=[]\n",
    "for line in text:\n",
    "    if line.startswith(\"WILL\"):\n",
    "       WILL.append(line.split())\n",
    "        \n",
    "\n",
    "print(WILL)\n",
    "        \n"
   ]
  },
  {
   "cell_type": "code",
   "execution_count": 15,
   "id": "1c41bd8e",
   "metadata": {},
   "outputs": [],
   "source": [
    "flat_ls = []\n",
    "for i in WILL:\n",
    "    for j in i:\n",
    "        flat_ls.append(j)"
   ]
  },
  {
   "cell_type": "code",
   "execution_count": 16,
   "id": "52536dce",
   "metadata": {},
   "outputs": [],
   "source": [
    "x='WILL:'\n",
    "while x in flat_ls:\n",
    "    flat_ls.remove(x)"
   ]
  },
  {
   "cell_type": "code",
   "execution_count": 17,
   "id": "c1773354",
   "metadata": {
    "scrolled": true
   },
   "outputs": [],
   "source": [
    "final=set(flat_ls)"
   ]
  },
  {
   "cell_type": "code",
   "execution_count": 18,
   "id": "1d3e8333",
   "metadata": {},
   "outputs": [
    {
     "data": {
      "text/plain": [
       "{'Close',\n",
       " 'Iâ€™ve',\n",
       " 'They',\n",
       " 'Whatever',\n",
       " 'a',\n",
       " 'any',\n",
       " 'as',\n",
       " 'children.',\n",
       " 'could',\n",
       " 'did',\n",
       " 'do',\n",
       " 'even',\n",
       " 'ever',\n",
       " 'here.',\n",
       " 'in',\n",
       " 'it',\n",
       " 'killed',\n",
       " 'life.',\n",
       " 'like',\n",
       " 'man',\n",
       " 'my',\n",
       " 'never',\n",
       " 'not',\n",
       " 'seen',\n",
       " 'the',\n",
       " 'them',\n",
       " 'thing',\n",
       " 'this,',\n",
       " 'this.',\n",
       " 'to',\n",
       " 'us.',\n",
       " 'were',\n",
       " 'wildlings',\n",
       " 'would.'}"
      ]
     },
     "execution_count": 18,
     "metadata": {},
     "output_type": "execute_result"
    }
   ],
   "source": [
    "final\n"
   ]
  },
  {
   "cell_type": "code",
   "execution_count": 8,
   "id": "1b6262d0",
   "metadata": {},
   "outputs": [],
   "source": [
    "with open('WILL.txt', 'w') as n:\n",
    "    n.writelines('\\n'.join(final))\n",
    "\n",
    "n.close()\n",
    "\n",
    "        \n",
    "#REPEATED THIS PROCESS FOR EACH INDIVIDUAL CHARACTER\n",
    "            "
   ]
  },
  {
   "cell_type": "code",
   "execution_count": null,
   "id": "3af7d801",
   "metadata": {
    "scrolled": false
   },
   "outputs": [],
   "source": []
  }
 ],
 "metadata": {
  "kernelspec": {
   "display_name": "Python 3 (ipykernel)",
   "language": "python",
   "name": "python3"
  },
  "language_info": {
   "codemirror_mode": {
    "name": "ipython",
    "version": 3
   },
   "file_extension": ".py",
   "mimetype": "text/x-python",
   "name": "python",
   "nbconvert_exporter": "python",
   "pygments_lexer": "ipython3",
   "version": "3.9.7"
  }
 },
 "nbformat": 4,
 "nbformat_minor": 5
}
