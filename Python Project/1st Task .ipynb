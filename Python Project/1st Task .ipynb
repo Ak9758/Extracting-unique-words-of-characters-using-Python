{
 "cells": [
  {
   "cell_type": "code",
   "execution_count": 3,
   "id": "e6391903",
   "metadata": {},
   "outputs": [],
   "source": [
    "with open('C:/Users/Admin/Desktop/DS Notes/Python/Libraries/conv.txt','r') as f:\n",
    "    text=f.read()\n",
    "    \n"
   ]
  },
  {
   "cell_type": "code",
   "execution_count": 4,
   "id": "77fc86c1",
   "metadata": {},
   "outputs": [
    {
     "name": "stdout",
     "output_type": "stream",
     "text": [
      "{'SEPTA MORDANE', 'CASSEL', 'JAIME', 'ROYCE', 'ROBB', 'WAYMAR ROYCE', 'SANSA', 'NED', 'ROBERT', 'CATELYN', 'ARYA', 'THEON', 'BRAN', 'WILL', 'CERSEI', 'GARED', 'JON'}\n"
     ]
    }
   ],
   "source": [
    "text_file=open('C:/Users/Admin/Desktop/DS Notes/Python/Libraries/conv.txt','r')\n",
    "#reading lines\n",
    "lines=text_file.readlines()\n",
    "\n",
    "#create an empty list\n",
    "s=[]\n",
    "for line in lines:\n",
    "    st=''\n",
    "    for i in range(len(line)):\n",
    "        if(line[i]==':'):\n",
    "            break\n",
    "        else:\n",
    "            st=st+line[i]\n",
    "    if(st.isupper()):\n",
    "        s.append(st)\n",
    "\n",
    "#closing text file\n",
    "text_file.close()\n",
    "\n",
    "#converting list to set\n",
    "s=set(s)\n",
    "\n",
    "print((s))\n",
    "\n",
    "        "
   ]
  },
  {
   "cell_type": "code",
   "execution_count": 5,
   "id": "51778aa9",
   "metadata": {},
   "outputs": [
    {
     "data": {
      "text/plain": [
       "17"
      ]
     },
     "execution_count": 5,
     "metadata": {},
     "output_type": "execute_result"
    }
   ],
   "source": [
    "len(s)"
   ]
  },
  {
   "cell_type": "code",
   "execution_count": null,
   "id": "44f66cb6",
   "metadata": {},
   "outputs": [],
   "source": []
  },
  {
   "cell_type": "code",
   "execution_count": null,
   "id": "8388e56e",
   "metadata": {},
   "outputs": [],
   "source": []
  },
  {
   "cell_type": "code",
   "execution_count": null,
   "id": "adf6e327",
   "metadata": {},
   "outputs": [],
   "source": []
  },
  {
   "cell_type": "code",
   "execution_count": null,
   "id": "567878a4",
   "metadata": {},
   "outputs": [],
   "source": []
  },
  {
   "cell_type": "code",
   "execution_count": null,
   "id": "bde68432",
   "metadata": {},
   "outputs": [],
   "source": []
  },
  {
   "cell_type": "code",
   "execution_count": 2,
   "id": "c3a87e3b",
   "metadata": {},
   "outputs": [],
   "source": []
  },
  {
   "cell_type": "code",
   "execution_count": null,
   "id": "36a1ed53",
   "metadata": {},
   "outputs": [],
   "source": []
  },
  {
   "cell_type": "code",
   "execution_count": null,
   "id": "3cac1322",
   "metadata": {},
   "outputs": [],
   "source": []
  }
 ],
 "metadata": {
  "kernelspec": {
   "display_name": "Python 3 (ipykernel)",
   "language": "python",
   "name": "python3"
  },
  "language_info": {
   "codemirror_mode": {
    "name": "ipython",
    "version": 3
   },
   "file_extension": ".py",
   "mimetype": "text/x-python",
   "name": "python",
   "nbconvert_exporter": "python",
   "pygments_lexer": "ipython3",
   "version": "3.9.7"
  }
 },
 "nbformat": 4,
 "nbformat_minor": 5
}
